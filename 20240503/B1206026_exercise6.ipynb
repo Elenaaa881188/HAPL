{
  "nbformat": 4,
  "nbformat_minor": 0,
  "metadata": {
    "colab": {
      "provenance": []
    },
    "kernelspec": {
      "name": "python3",
      "display_name": "Python 3"
    },
    "language_info": {
      "name": "python"
    }
  },
  "cells": [
    {
      "cell_type": "code",
      "execution_count": null,
      "metadata": {
        "id": "C6mJOQSB8lsj",
        "colab": {
          "base_uri": "https://localhost:8080/"
        },
        "outputId": "c2184018-4cf7-4935-eb85-ea204c988857"
      },
      "outputs": [
        {
          "output_type": "stream",
          "name": "stdout",
          "text": [
            "請輸入數字:11\n",
            "           *\n",
            "          ***\n",
            "         *****\n",
            "        *******\n",
            "       *********\n",
            "      ***********\n",
            "     *************\n",
            "    ***************\n",
            "   *****************\n",
            "  *******************\n",
            " *********************\n",
            "          ***\n",
            "          ***\n",
            "          ***\n",
            "          ***\n",
            "          ***\n"
          ]
        }
      ],
      "source": [
        "n=int(input('請輸入數字:'))\n",
        "m=5\n",
        "n=n*2+1\n",
        "for x in range(n):\n",
        "  if x%2==1:\n",
        "    Q= int((n-x)/2)\n",
        "    for y in range(Q):\n",
        "      print(' ',end='')\n",
        "    for k in range(x):\n",
        "      print('*',end='')\n",
        "    print( )\n",
        "for i in range(m):\n",
        "  print((' '*int((n-3)/2)+'*'*3))"
      ]
    },
    {
      "cell_type": "code",
      "source": [
        "def calculate_bmi(height_cm, weight_kg):\n",
        "    try:\n",
        "        # 將身高從公分轉換為米\n",
        "        height_m = height_cm / 100.0\n",
        "\n",
        "        # 計算 BMI\n",
        "        bmi = weight_kg / (height_m ** 2)\n",
        "\n",
        "        # 判斷體位結果\n",
        "        if bmi < 18.5:\n",
        "            result = \"體位:過輕\"\n",
        "        elif bmi < 24:\n",
        "            result = \"體位:適中\"\n",
        "        elif bmi < 27:\n",
        "            result = \"體位:過重\"\n",
        "        else:\n",
        "            result = \"體位:肥胖\"\n",
        "\n",
        "        # 回傳 BMI 值和體位結果\n",
        "        return bmi, result\n",
        "\n",
        "    except ValueError:\n",
        "        print(\"輸入內容錯誤，請確保輸入的是數字。\")\n",
        "        raise\n",
        "\n",
        "# 主程式\n",
        "try:\n",
        "    height = float(input(\"請輸入身高 (公分): \"))\n",
        "    weight = float(input(\"請輸入體重 (公斤): \"))\n",
        "\n",
        "    bmi_value, bmi_result = calculate_bmi(height, weight)\n",
        "    print(f\"您的BMI值為: {bmi_value:.2f}\")\n",
        "    print(f\"體位結果: {bmi_result}\")\n",
        "\n",
        "except ValueError:\n",
        "    print(\"輸入內容錯誤，請確保輸入的是數字。\")\n",
        "\n",
        "\n"
      ],
      "metadata": {
        "id": "T117xU03CySF",
        "colab": {
          "base_uri": "https://localhost:8080/"
        },
        "outputId": "eeb76e15-0396-47f3-dc4a-66c93fedd781"
      },
      "execution_count": 3,
      "outputs": [
        {
          "output_type": "stream",
          "name": "stdout",
          "text": [
            "請輸入身高 (公分): --\n",
            "輸入內容錯誤，請確保輸入的是數字。\n"
          ]
        }
      ]
    }
  ]
}