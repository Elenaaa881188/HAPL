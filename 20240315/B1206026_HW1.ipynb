{
  "nbformat": 4,
  "nbformat_minor": 0,
  "metadata": {
    "colab": {
      "provenance": []
    },
    "kernelspec": {
      "name": "python3",
      "display_name": "Python 3"
    },
    "language_info": {
      "name": "python"
    }
  },
  "cells": [
    {
      "cell_type": "code",
      "execution_count": null,
      "metadata": {
        "colab": {
          "base_uri": "https://localhost:8080/"
        },
        "id": "izMKWVHL4VvV",
        "outputId": "d0793a7e-1751-4356-f0d5-dcafae394544"
      },
      "outputs": [
        {
          "output_type": "stream",
          "name": "stdout",
          "text": [
            "I'm a student\n"
          ]
        }
      ],
      "source": [
        "print(\"I'm a student\")"
      ]
    },
    {
      "cell_type": "code",
      "source": [
        "x1=int(input('A的x座標x1='))\n",
        "y1=int(input('A的y座標y1='))\n",
        "x2=int(input('B的x座標x2='))\n",
        "y2=int(input('B的y座標y2='))\n",
        "\n",
        "a=(x1-x2)**2\n",
        "b=(y1-y2)**2\n",
        "\n",
        "z=(a+b)**0.5\n",
        "\n",
        "print('AB之間的距離= ',z)"
      ],
      "metadata": {
        "id": "Nv45f1HX4rvE",
        "colab": {
          "base_uri": "https://localhost:8080/"
        },
        "outputId": "be08627e-21f9-4cc2-db09-823024a1e158"
      },
      "execution_count": 19,
      "outputs": [
        {
          "output_type": "stream",
          "name": "stdout",
          "text": [
            "A的x座標x1=2\n",
            "A的y座標y1=2\n",
            "B的x座標x2=2\n",
            "B的y座標y2=4\n",
            "AB之間的距離=  2.0\n"
          ]
        }
      ]
    },
    {
      "cell_type": "code",
      "source": [
        "身高=float(input('身高(cm)= '))\n",
        "體重=float(input('體重(kg)= '))\n",
        "\n",
        "體重/=(身高/100)**2\n",
        "\n",
        "print('BMI= ',體重)"
      ],
      "metadata": {
        "colab": {
          "base_uri": "https://localhost:8080/"
        },
        "id": "--xmS8a5qKjw",
        "outputId": "48aaabb0-2afa-415f-a558-823ebfcec44a"
      },
      "execution_count": 31,
      "outputs": [
        {
          "output_type": "stream",
          "name": "stdout",
          "text": [
            "身高(cm)= 160\n",
            "體重(kg)= 45\n",
            "BMI=  17.578124999999996\n"
          ]
        }
      ]
    }
  ]
}