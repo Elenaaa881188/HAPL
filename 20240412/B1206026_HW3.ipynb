{
  "nbformat": 4,
  "nbformat_minor": 0,
  "metadata": {
    "colab": {
      "provenance": []
    },
    "kernelspec": {
      "name": "python3",
      "display_name": "Python 3"
    },
    "language_info": {
      "name": "python"
    }
  },
  "cells": [
    {
      "cell_type": "code",
      "execution_count": 14,
      "metadata": {
        "id": "9iW-gQrMGQWw",
        "colab": {
          "base_uri": "https://localhost:8080/"
        },
        "outputId": "bbc22cdd-128f-4166-e3ea-6c92e3503f03"
      },
      "outputs": [
        {
          "output_type": "stream",
          "name": "stdout",
          "text": [
            "輸入年份2024\n",
            "此年為閏年\n"
          ]
        }
      ],
      "source": [
        "a=int(input('輸入年份'))\n",
        "b=1582\n",
        "if a<=b:\n",
        "  if a%4==0:\n",
        "    print('此年為閏年')\n",
        "  else:\n",
        "    print('此年為平年')\n",
        "\n",
        "else:\n",
        "  if a%400==0:\n",
        "    print('此年為閏年')\n",
        "  elif a%100==0:\n",
        "    print('此年為平年')\n",
        "  elif a%4==0:\n",
        "    print('此年為閏年')\n",
        "  else:\n",
        "    print('此年為平年')"
      ]
    }
  ]
}