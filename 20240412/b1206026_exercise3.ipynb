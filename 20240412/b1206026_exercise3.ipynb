{
  "nbformat": 4,
  "nbformat_minor": 0,
  "metadata": {
    "colab": {
      "provenance": []
    },
    "kernelspec": {
      "name": "python3",
      "display_name": "Python 3"
    },
    "language_info": {
      "name": "python"
    }
  },
  "cells": [
    {
      "cell_type": "code",
      "execution_count": 11,
      "metadata": {
        "colab": {
          "base_uri": "https://localhost:8080/"
        },
        "id": "O3hb4AEJDGZK",
        "outputId": "1681b12b-7195-44cd-c90e-a68624ff47e9"
      },
      "outputs": [
        {
          "output_type": "stream",
          "name": "stdout",
          "text": [
            "身高(cm)= 160\n",
            "體重(kg)= 42.5\n",
            "BMI=  16.601562499999996\n",
            "體位:過輕\n"
          ]
        }
      ],
      "source": [
        "Height=float(input('身高(cm)= '))\n",
        "Weight=float(input('體重(kg)= '))\n",
        "\n",
        "b= Weight / (Height / 100)**2\n",
        "print('BMI= ',b)\n",
        "if b<18.5:\n",
        "  print('體位:過輕')\n",
        "elif 18.5<=b<24:\n",
        "  print('體位:適中')\n",
        "elif 24<=b<27:\n",
        "  print('體位:過重')\n",
        "elif b>=27:\n",
        "  print('體位:肥胖')\n"
      ]
    },
    {
      "cell_type": "code",
      "source": [
        "a=float(input('請輸入第一個數字'))\n",
        "b=input('請輸入運算符號')\n",
        "c=float(input('請輸入第二個數字'))\n",
        "if b=='+':\n",
        "  d=a+c\n",
        "  print(d)\n",
        "elif b=='-':\n",
        "  d=a-c\n",
        "  print(d)\n",
        "elif b=='*':\n",
        "  d=a*c\n",
        "  print(d)\n",
        "elif b=='/':\n",
        "  d=a/c\n",
        "  print(d)"
      ],
      "metadata": {
        "colab": {
          "base_uri": "https://localhost:8080/"
        },
        "id": "WDZUVTuvH4YE",
        "outputId": "d0a36df7-df83-44cc-8f1c-f004c7697f11"
      },
      "execution_count": 13,
      "outputs": [
        {
          "output_type": "stream",
          "name": "stdout",
          "text": [
            "請輸入第一個數字7\n",
            "請輸入運算符號/\n",
            "請輸入第二個數字3\n",
            "2.3333333333333335\n"
          ]
        }
      ]
    }
  ]
}