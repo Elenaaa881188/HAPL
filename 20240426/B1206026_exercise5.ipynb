{
  "nbformat": 4,
  "nbformat_minor": 0,
  "metadata": {
    "colab": {
      "provenance": []
    },
    "kernelspec": {
      "name": "python3",
      "display_name": "Python 3"
    },
    "language_info": {
      "name": "python"
    }
  },
  "cells": [
    {
      "cell_type": "code",
      "source": [
        "a = 1\n",
        "while a <= 9:\n",
        "  b = 1\n",
        "  while b <= 9:\n",
        "    if b>=9:\n",
        "      print(f'{b} x {a} = {b*a}')\n",
        "    else:\n",
        "      if b*a>=10:\n",
        "        print(f'{b} x {a} = {b*a}',end='  ')\n",
        "      else:\n",
        "        print(f'{b} x {a} = {b*a}',end='   ')\n",
        "\n",
        "    b += 1\n",
        "\n",
        "  a += 1"
      ],
      "metadata": {
        "colab": {
          "base_uri": "https://localhost:8080/"
        },
        "id": "XFjOLH8t9dOg",
        "outputId": "b0664e73-3464-47e2-cb37-301271c8a01a"
      },
      "execution_count": null,
      "outputs": [
        {
          "output_type": "stream",
          "name": "stdout",
          "text": [
            "1 x 1 = 1   2 x 1 = 2   3 x 1 = 3   4 x 1 = 4   5 x 1 = 5   6 x 1 = 6   7 x 1 = 7   8 x 1 = 8   9 x 1 = 9\n",
            "1 x 2 = 2   2 x 2 = 4   3 x 2 = 6   4 x 2 = 8   5 x 2 = 10  6 x 2 = 12  7 x 2 = 14  8 x 2 = 16  9 x 2 = 18\n",
            "1 x 3 = 3   2 x 3 = 6   3 x 3 = 9   4 x 3 = 12  5 x 3 = 15  6 x 3 = 18  7 x 3 = 21  8 x 3 = 24  9 x 3 = 27\n",
            "1 x 4 = 4   2 x 4 = 8   3 x 4 = 12  4 x 4 = 16  5 x 4 = 20  6 x 4 = 24  7 x 4 = 28  8 x 4 = 32  9 x 4 = 36\n",
            "1 x 5 = 5   2 x 5 = 10  3 x 5 = 15  4 x 5 = 20  5 x 5 = 25  6 x 5 = 30  7 x 5 = 35  8 x 5 = 40  9 x 5 = 45\n",
            "1 x 6 = 6   2 x 6 = 12  3 x 6 = 18  4 x 6 = 24  5 x 6 = 30  6 x 6 = 36  7 x 6 = 42  8 x 6 = 48  9 x 6 = 54\n",
            "1 x 7 = 7   2 x 7 = 14  3 x 7 = 21  4 x 7 = 28  5 x 7 = 35  6 x 7 = 42  7 x 7 = 49  8 x 7 = 56  9 x 7 = 63\n",
            "1 x 8 = 8   2 x 8 = 16  3 x 8 = 24  4 x 8 = 32  5 x 8 = 40  6 x 8 = 48  7 x 8 = 56  8 x 8 = 64  9 x 8 = 72\n",
            "1 x 9 = 9   2 x 9 = 18  3 x 9 = 27  4 x 9 = 36  5 x 9 = 45  6 x 9 = 54  7 x 9 = 63  8 x 9 = 72  9 x 9 = 81\n"
          ]
        }
      ]
    },
    {
      "cell_type": "code",
      "source": [
        "import random\n",
        "answer=random.sample(range(1,10),4)\n",
        "print('答案:',answer)\n",
        "a=b=n=0\n",
        "c=0\n",
        "while a!=4:\n",
        "  a=b=n=0\n",
        "  user=list(input('請輸入四個數字(不會重複)'))\n",
        "\n",
        "  if len(user)>4:\n",
        "    print('輸入字數過多')\n",
        "  else :\n",
        "    c+=1\n",
        "    for i in user:\n",
        "      if int(user[n])==answer[n]:\n",
        "        a+=1\n",
        "      else:\n",
        "        if int(i)in answer:\n",
        "          b+=1\n",
        "      n+=1\n",
        "    output=','.join(user).replace(',','')\n",
        "    print(f'{output}: {a}A{b}B')\n",
        "print ('答對了!總共猜了',c,'次')"
      ],
      "metadata": {
        "colab": {
          "base_uri": "https://localhost:8080/"
        },
        "id": "7x1YBOIDDBNX",
        "outputId": "b755fe02-a2e3-44d3-9d93-3d0b792c4c32"
      },
      "execution_count": 2,
      "outputs": [
        {
          "output_type": "stream",
          "name": "stdout",
          "text": [
            "答案: [8, 1, 5, 7]\n",
            "請輸入四個數字(不會重複)12345\n",
            "輸入字數過多\n",
            "請輸入四個數字(不會重複)8156\n",
            "8156: 3A0B\n",
            "請輸入四個數字(不會重複)8175\n",
            "8175: 2A2B\n",
            "請輸入四個數字(不會重複)8167\n",
            "8167: 3A0B\n",
            "請輸入四個數字(不會重複)8157\n",
            "8157: 4A0B\n",
            "答對了!總共猜了 4 次\n"
          ]
        }
      ]
    }
  ]
}