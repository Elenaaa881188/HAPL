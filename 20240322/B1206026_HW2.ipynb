{
  "nbformat": 4,
  "nbformat_minor": 0,
  "metadata": {
    "colab": {
      "provenance": []
    },
    "kernelspec": {
      "name": "python3",
      "display_name": "Python 3"
    },
    "language_info": {
      "name": "python"
    }
  },
  "cells": [
    {
      "cell_type": "code",
      "execution_count": null,
      "metadata": {
        "colab": {
          "base_uri": "https://localhost:8080/"
        },
        "id": "srJJqI72kc6G",
        "outputId": "a1c3b794-de2e-4447-c04b-9e1a8229a704"
      },
      "outputs": [
        {
          "output_type": "stream",
          "name": "stdout",
          "text": [
            "A\n",
            "['K', 'H', 'U']\n"
          ]
        }
      ],
      "source": [
        "a='C,B,A'\n",
        "b=['F','G','H']\n",
        "x=a.split(',')\n",
        "y=x+b\n",
        "y[0]='K'\n",
        "z=y.pop(2)\n",
        "print(z)\n",
        "del y[1:4]\n",
        "y.append('U')\n",
        "print(y)"
      ]
    },
    {
      "cell_type": "code",
      "source": [
        "a=input('請輸入八位數:')\n",
        "print(a[4])"
      ],
      "metadata": {
        "colab": {
          "base_uri": "https://localhost:8080/"
        },
        "id": "OOfTtIAOs4Hf",
        "outputId": "bf27463a-9c8c-4cb5-a089-f80268e722af"
      },
      "execution_count": null,
      "outputs": [
        {
          "output_type": "stream",
          "name": "stdout",
          "text": [
            "請輸入八位數:12345678\n",
            "5\n"
          ]
        }
      ]
    },
    {
      "cell_type": "code",
      "source": [
        "a='My ID is B1206026'\n",
        "b=a.split(' ')\n",
        "c=len(b)\n",
        "print(c)\n",
        "\n",
        "d=len(b[3])\n",
        "print(d)"
      ],
      "metadata": {
        "colab": {
          "base_uri": "https://localhost:8080/"
        },
        "id": "0yu0iAyos4bG",
        "outputId": "09665f85-0ec9-4113-ff88-4d991bb6f8e3"
      },
      "execution_count": null,
      "outputs": [
        {
          "output_type": "stream",
          "name": "stdout",
          "text": [
            "4\n",
            "8\n"
          ]
        }
      ]
    },
    {
      "cell_type": "code",
      "source": [
        "a=\"I'm a student\"\n",
        "b=list(a)\n",
        "print(b[2])\n"
      ],
      "metadata": {
        "id": "8gVutz2js4qe",
        "colab": {
          "base_uri": "https://localhost:8080/"
        },
        "outputId": "e68226be-dfe0-41fd-9283-bad1be3517b0"
      },
      "execution_count": 1,
      "outputs": [
        {
          "output_type": "stream",
          "name": "stdout",
          "text": [
            "m\n"
          ]
        }
      ]
    }
  ]
}