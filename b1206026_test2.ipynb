{
  "nbformat": 4,
  "nbformat_minor": 0,
  "metadata": {
    "colab": {
      "provenance": []
    },
    "kernelspec": {
      "name": "python3",
      "display_name": "Python 3"
    },
    "language_info": {
      "name": "python"
    }
  },
  "cells": [
    {
      "cell_type": "markdown",
      "source": [
        "定義變數"
      ],
      "metadata": {
        "id": "ayf0bpPH2T3Q"
      }
    },
    {
      "cell_type": "code",
      "execution_count": null,
      "metadata": {
        "id": "XZ3qS-f92Q8u"
      },
      "outputs": [],
      "source": [
        "y=4"
      ]
    },
    {
      "cell_type": "markdown",
      "source": [
        "最小單元計算"
      ],
      "metadata": {
        "id": "iHFRgAhh2b63"
      }
    },
    {
      "cell_type": "code",
      "source": [
        "a=2+1\n",
        "\n",
        "z=100/a\n",
        "\n",
        "print('Answer =', z)"
      ],
      "metadata": {
        "colab": {
          "base_uri": "https://localhost:8080/"
        },
        "id": "FRuyZO6h2iJf",
        "outputId": "bc01b370-f8e8-4dce-ab80-0d9646747733"
      },
      "execution_count": null,
      "outputs": [
        {
          "output_type": "stream",
          "name": "stdout",
          "text": [
            "Answer = 33.333333333333336\n"
          ]
        }
      ]
    },
    {
      "cell_type": "markdown",
      "source": [
        "檢查資料型態"
      ],
      "metadata": {
        "id": "EUJ-BJNDiS3J"
      }
    },
    {
      "cell_type": "code",
      "source": [
        "print(type(a))\n",
        "print(type(z))\n",
        "\n",
        "print(type(y))"
      ],
      "metadata": {
        "colab": {
          "base_uri": "https://localhost:8080/"
        },
        "id": "MU1RLK7iiVoN",
        "outputId": "24d4c6a2-b125-46f3-d14f-5574a0bec667"
      },
      "execution_count": null,
      "outputs": [
        {
          "output_type": "stream",
          "name": "stdout",
          "text": [
            "<class 'int'>\n",
            "<class 'float'>\n",
            "<class 'int'>\n"
          ]
        }
      ]
    }
  ]
}